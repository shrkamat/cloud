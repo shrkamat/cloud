{
  "nbformat": 4,
  "nbformat_minor": 0,
  "metadata": {
    "colab": {
      "provenance": [],
      "gpuType": "T4",
      "authorship_tag": "ABX9TyPtTZfC62L0cSaQwGG0JVbt",
      "include_colab_link": true
    },
    "kernelspec": {
      "name": "python3",
      "display_name": "Python 3"
    },
    "language_info": {
      "name": "python"
    },
    "accelerator": "GPU"
  },
  "cells": [
    {
      "cell_type": "markdown",
      "metadata": {
        "id": "view-in-github",
        "colab_type": "text"
      },
      "source": [
        "<a href=\"https://colab.research.google.com/github/shrkamat/cloud/blob/master/ai_stack.ipynb\" target=\"_parent\"><img src=\"https://colab.research.google.com/assets/colab-badge.svg\" alt=\"Open In Colab\"/></a>"
      ]
    },
    {
      "cell_type": "code",
      "source": [
        "! pip install git+https://github.com/m-bain/whisperx.git yt-dlp"
      ],
      "metadata": {
        "id": "bcLrvD6XYytK"
      },
      "execution_count": null,
      "outputs": []
    },
    {
      "cell_type": "code",
      "source": [
        "# ! wget \"https://chtbl.com/track/5899E/podtrac.com/pts/redirect.mp3/traffic.omny.fm/d/clips/e73c998e-6e60-432f-8610-ae210140c5b1/69f89044-ce7b-4a37-b8fe-ae2c007b3cf5/61a04639-7c04-4e31-b0b4-b154010cea16/audio.mp3?utm_source=Podcast&in_playlist=4331cc95-c2e7-4689-a79c-ae2c007b3cff\" -O audio.mp3\n",
        "! yt-dlp --format 'bestvideo[ext=mp4]+bestaudio[ext=m4a]/mp4' https://www.youtube.com/watch?v=g_1oiJqE3OI -o \"video.mp4\" --write-sub\n",
        "! ffmpeg -i video.mp4 -vn -c:a libmp3lame audio.mp3\n",
        "! du -sh video.mp4\n",
        "! du -sh audio.mp3"
      ],
      "metadata": {
        "id": "jpO81sud0ZIi"
      },
      "execution_count": null,
      "outputs": []
    },
    {
      "cell_type": "code",
      "source": [
        "# (device, compute) = ('cuda', 'float16')\n",
        "(device, compute) = ('cpu', 'float32')\n",
        "import whisperx\n",
        "\n",
        "wx_model = whisperx.load_model(\"medium.en\", device=device, compute_type=compute)"
      ],
      "metadata": {
        "id": "grYHqBD6afJR"
      },
      "execution_count": null,
      "outputs": []
    },
    {
      "cell_type": "code",
      "source": [
        "audio = whisperx.load_audio(\"audio.mp3\")\n",
        "result = wx_model.transcribe(audio, batch_size=16)"
      ],
      "metadata": {
        "id": "F5soglpza_ud"
      },
      "execution_count": null,
      "outputs": []
    },
    {
      "cell_type": "code",
      "source": [
        "import json\n",
        "\n",
        "# delete words key from result dict\n",
        "for seg in result_a['segments']:\n",
        "  del seg['words']\n",
        "\n",
        "with open(\"audio_orig.json\", \"w\") as f:\n",
        "    f.write(json.dumps(result['segments'], indent=4))"
      ],
      "metadata": {
        "id": "Nv_GGnRceN34"
      },
      "execution_count": null,
      "outputs": []
    },
    {
      "cell_type": "code",
      "source": [
        "model_a, metadata = whisperx.load_align_model(language_code=result[\"language\"], device=device)\n",
        "result_a = whisperx.align(result[\"segments\"], model_a, metadata, audio, device=device, return_char_alignments=False)"
      ],
      "metadata": {
        "id": "ocg4_mm7f43m"
      },
      "execution_count": null,
      "outputs": []
    },
    {
      "cell_type": "code",
      "source": [
        "import json\n",
        "with open(\"audio_tokenized.json\", \"w\") as f:\n",
        "    f.write(json.dumps(result_a['segments'], indent=4))"
      ],
      "metadata": {
        "id": "fnpZzCuWrQXI"
      },
      "execution_count": null,
      "outputs": []
    },
    {
      "cell_type": "code",
      "source": [
        "import math\n",
        "\n",
        "def seconds_to_timestamp(seconds):\n",
        "    hours = seconds // 3600\n",
        "    minutes = (seconds % 3600) // 60\n",
        "    remaining_seconds = seconds % 60\n",
        "    (ms, sec) = math.modf(remaining_seconds)\n",
        "    return '{:02d}:{:02d}:{:02d},{:03d}'.format(int(hours), int(minutes), int(sec), int(ms*1000))\n",
        "\n",
        "with open(\"audio.srt\", \"w\") as f:\n",
        "  for idx, seg in enumerate(result_a['segments']):\n",
        "    res = '\\n{:d}\\n{:s} --> {:s}\\n{:s}\\n'.format(int(idx+1), seconds_to_timestamp(seg['start']), seconds_to_timestamp(seg['end']), seg['text'].lstrip())\n",
        "    f.write(res)"
      ],
      "metadata": {
        "id": "wop_H2R0jb55"
      },
      "execution_count": null,
      "outputs": []
    }
  ]
}